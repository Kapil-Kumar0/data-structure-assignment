{
 "cells": [
  {
   "cell_type": "code",
   "execution_count": 7,
   "id": "f1aae373-89d8-4f5c-a642-bc2d03e9bdd0",
   "metadata": {},
   "outputs": [
    {
     "name": "stdout",
     "output_type": "stream",
     "text": [
      "sllikswp\n"
     ]
    }
   ],
   "source": [
    "# 1- Write a code to reverse a string\n",
    "a=\"pwskills\"\n",
    "c=a[::-1]\n",
    "print(c)"
   ]
  },
  {
   "cell_type": "code",
   "execution_count": 26,
   "id": "b985df9e-e3fa-4604-81a9-164b504d6097",
   "metadata": {},
   "outputs": [
    {
     "name": "stdout",
     "output_type": "stream",
     "text": [
      "total number of vowel in given sentense 0\n",
      "total number of vowel in given sentense 1\n",
      "total number of vowel in given sentense 1\n",
      "total number of vowel in given sentense 2\n",
      "total number of vowel in given sentense 2\n",
      "total number of vowel in given sentense 2\n",
      "total number of vowel in given sentense 2\n",
      "total number of vowel in given sentense 3\n",
      "total number of vowel in given sentense 3\n",
      "total number of vowel in given sentense 4\n",
      "total number of vowel in given sentense 4\n",
      "total number of vowel in given sentense 4\n",
      "total number of vowel in given sentense 4\n",
      "total number of vowel in given sentense 4\n",
      "total number of vowel in given sentense 5\n",
      "total number of vowel in given sentense 5\n",
      "total number of vowel in given sentense 5\n",
      "total number of vowel in given sentense 5\n",
      "total number of vowel in given sentense 6\n",
      "total number of vowel in given sentense 6\n",
      "total number of vowel in given sentense 6\n",
      "total number of vowel in given sentense 6\n",
      "total number of vowel in given sentense 6\n",
      "total number of vowel in given sentense 6\n",
      "total number of vowel in given sentense 6\n",
      "total number of vowel in given sentense 7\n",
      "total number of vowel in given sentense 7\n",
      "total number of vowel in given sentense 7\n",
      "total number of vowel in given sentense 7\n",
      "total number of vowel in given sentense 7\n"
     ]
    }
   ],
   "source": [
    "# 2- Write a code to count the number of vowels in a string\n",
    "a=\"kapil kumar study in pwskills \"\n",
    "vowel=['a','e','i','o','u']\n",
    "count=0\n",
    "for i in a:\n",
    "    if i in vowel:\n",
    "        count+=1\n",
    "    print(\"total number of vowel in given sentense\" ,count)"
   ]
  },
  {
   "cell_type": "code",
   "execution_count": 30,
   "id": "5db9bc77-49c6-425c-92cd-6bff3ea97bfa",
   "metadata": {},
   "outputs": [
    {
     "name": "stdout",
     "output_type": "stream",
     "text": [
      "this is palindrome \n"
     ]
    }
   ],
   "source": [
    "# 3- Write a code to check if a given string is a palindrome or not\n",
    "a=\"madam\"\n",
    "b=a[::-1]                           #A palindrome is a word, phrase, name,\n",
    "                                    #or number that reads the same forward or backward \n",
    "if a==b:\n",
    "    print(\"this is palindrome \")\n",
    "else:\n",
    "    print(\"this is not palindrome string\")\n"
   ]
  },
  {
   "cell_type": "code",
   "execution_count": 44,
   "id": "35045d42-e37f-4cbb-8519-17fbcd575a3d",
   "metadata": {},
   "outputs": [
    {
     "name": "stdout",
     "output_type": "stream",
     "text": [
      "this is not anagram\n"
     ]
    }
   ],
   "source": [
    "# 4-Write a code to check if two given strings are anagrams of each other\n",
    "#In other words, two strings are considered anagrams if \n",
    "#they have the same characters with the same frequency,\n",
    "#but the order of the characters is different\n",
    "str1=\"listen\"\n",
    "str2=\"silent\"\n",
    "if sorted(str1)==sorted(str2):\n",
    "    print(\"this is anagram\")\n",
    "else:\n",
    "    print(\"this is not anagram\")\n"
   ]
  },
  {
   "cell_type": "code",
   "execution_count": 48,
   "id": "f3a480cb-4694-408f-bc33-ae720fb90570",
   "metadata": {},
   "outputs": [
    {
     "name": "stdin",
     "output_type": "stream",
     "text": [
      "enter the string here : hello\n"
     ]
    },
    {
     "name": "stdout",
     "output_type": "stream",
     "text": [
      "['h', 'he', 'hel', 'hell', 'e', 'el', 'ell', 'l', 'll', 'l']\n"
     ]
    }
   ],
   "source": [
    "# 5-Question-5- Write a code to find all occurrences of a given substring within another string.\n",
    "\n",
    "str1=input('enter the string here :')\n",
    "sub=[]\n",
    "for i in range(0,len(str1)):\n",
    "    for k in range(i+1,len(str1)):\n",
    "        sub.append(str1[i:k])\n",
    "print(sub)"
   ]
  },
  {
   "cell_type": "code",
   "execution_count": 64,
   "id": "1565f684-37e7-41dd-a987-793386146cda",
   "metadata": {},
   "outputs": [
    {
     "name": "stdout",
     "output_type": "stream",
     "text": [
      "h 2\n",
      "e 2\n",
      "l 1\n",
      "o 3\n",
      "  3\n",
      "w 1\n",
      "a 1\n",
      "r 1\n",
      "y 1\n",
      "u 1\n"
     ]
    }
   ],
   "source": [
    "# -6-_ Write a code to perform basic string compression using the counts of repeated characters\n",
    "a=\"helo how are you\"\n",
    "b=[]\n",
    "for i in a:\n",
    "    if i not in b:\n",
    "        b.append(i)\n",
    "for c in b:\n",
    "    print(c,a.count(c))\n"
   ]
  },
  {
   "cell_type": "code",
   "execution_count": 70,
   "id": "e7c549ac-7b1f-4663-a730-813be0aea624",
   "metadata": {},
   "outputs": [
    {
     "name": "stdout",
     "output_type": "stream",
     "text": [
      "{'k', 'd', 'm', 'h', 'g', 'i', 'e', 'l', 'a', 'b', 'f', 'c', 'j'}\n"
     ]
    }
   ],
   "source": [
    "# -7-_ Write a code to determine if a string has all unique characters_\n",
    "a=('a','b','c','d','e','f','g','h','i','j','k','l','m')\n",
    "b=set(a)\n",
    "print(b)"
   ]
  },
  {
   "cell_type": "code",
   "execution_count": 84,
   "id": "158a675f-fedc-4196-8571-6a430717b3c0",
   "metadata": {},
   "outputs": [
    {
     "name": "stdout",
     "output_type": "stream",
     "text": [
      "hello priya how are you\n",
      "HELLO PRIYA HOW ARE YOU\n"
     ]
    }
   ],
   "source": [
    "# 8-Write a code to convert a given string to uppercase or lowercase_\n",
    "a=\"hello PRIYA HOw ARe yOU\"\n",
    "b=a.lower()\n",
    "print(b)\n",
    "c=a.upper()\n",
    "print(c)"
   ]
  },
  {
   "cell_type": "code",
   "execution_count": 94,
   "id": "6b087a17-d1ad-4e13-a0c4-e9f03d96175b",
   "metadata": {},
   "outputs": [
    {
     "name": "stdout",
     "output_type": "stream",
     "text": [
      "6 ['helo', 'kapil', 'what', 'are', 'doing', 'todays']\n"
     ]
    }
   ],
   "source": [
    "# 9-9-Write a code to count the number of words in a string_\n",
    "a=\"helo kapil what are doing todays\"\n",
    "b=a.split()\n",
    "print(len(b),b)"
   ]
  },
  {
   "cell_type": "code",
   "execution_count": 96,
   "id": "507e28c4-bbbf-4234-afc4-e8de76c4f4a4",
   "metadata": {},
   "outputs": [
    {
     "name": "stdout",
     "output_type": "stream",
     "text": [
      "hello kapil\n"
     ]
    }
   ],
   "source": [
    "# 10-Write a code to concatenate two strings without using the + operator.\n",
    "a=\"hello\"\n",
    "b=\"kapil\"\n",
    "print(a,b)"
   ]
  },
  {
   "cell_type": "code",
   "execution_count": 104,
   "id": "44117c34-2b3f-4b6c-852b-79f1bb0d58ee",
   "metadata": {},
   "outputs": [
    {
     "name": "stdout",
     "output_type": "stream",
     "text": [
      "['kumar', 'how', 'are', 'you']\n"
     ]
    }
   ],
   "source": [
    "# 11-11-Write a code to remove all occurrences of a specific element from a list.\n",
    "a=['kapil','kumar','how','are','you']\n",
    "a.remove('kapil')\n",
    "print(a)"
   ]
  },
  {
   "cell_type": "code",
   "execution_count": 114,
   "id": "9cc9d58e-f342-40de-9a23-413b7b6a18ba",
   "metadata": {},
   "outputs": [
    {
     "data": {
      "text/plain": [
       "86"
      ]
     },
     "execution_count": 114,
     "metadata": {},
     "output_type": "execute_result"
    }
   ],
   "source": [
    "# 12-11-Write a code to remove all occurrences of a specific element from a list.\n",
    "a=[12,35,77,55,76,45,46,35,36,7,57,48,86,36,9,89,76]\n",
    "sorted(set(a))[-2]\n"
   ]
  },
  {
   "cell_type": "code",
   "execution_count": 120,
   "id": "691e3ca2-82f7-4a16-8ad8-214b332c5538",
   "metadata": {},
   "outputs": [
    {
     "name": "stdout",
     "output_type": "stream",
     "text": [
      "{'apple': 3, 'banana': 2, 'orange': 1}\n"
     ]
    }
   ],
   "source": [
    "# 13-Create a code to count the occurrences of each element in a list and return a dictionary with elements as\n",
    "#keys and their counts as values\u0012\n",
    "def count_occurrences(lst):\n",
    "    \"\"\"Counts occurrences of each element in the list and returns a dictionary.\"\"\"\n",
    "    counts = {}\n",
    "    for item in lst:\n",
    "        counts[item] = counts.get(item, 0) + 1\n",
    "    return counts\n",
    "\n",
    "# Example usage\n",
    "sample_list = [\"apple\", \"banana\", \"apple\", \"orange\", \"banana\", \"apple\"]\n",
    "result = count_occurrences(sample_list)\n",
    "print(result)"
   ]
  },
  {
   "cell_type": "code",
   "execution_count": 122,
   "id": "5fe15485-2470-4681-9448-19dddf1a4986",
   "metadata": {},
   "outputs": [
    {
     "name": "stdout",
     "output_type": "stream",
     "text": [
      "lipak\n"
     ]
    }
   ],
   "source": [
    "# 14-Write a code to reverse a list in-place without using any built-in reverse functions\n",
    "a=\"kapil\"\n",
    "b=a[::-1]\n",
    "print(b)"
   ]
  },
  {
   "cell_type": "code",
   "execution_count": 126,
   "id": "b0a59678-01bc-46c9-b6a4-d55860c8db08",
   "metadata": {},
   "outputs": [
    {
     "name": "stdout",
     "output_type": "stream",
     "text": [
      "{0, 1, 2, 3, 4, 5, 6, 7, 8, 9}\n"
     ]
    }
   ],
   "source": [
    "# 15-Implement a code to find and remove duplicates from a list while preserving the original order of element\n",
    "a=[1,2,4,6,5,6,5,7,5,8,5,8,4,7,6,3,7,9,7,6,9,0,7]\n",
    "#remove duplicate value by converting in sets because sets have a unique value\n",
    "b=set(list(a))\n",
    "print(b)"
   ]
  },
  {
   "cell_type": "code",
   "execution_count": 128,
   "id": "7a2ff120-6577-4e94-a80b-0963a375cb7a",
   "metadata": {},
   "outputs": [
    {
     "name": "stdout",
     "output_type": "stream",
     "text": [
      "True\n",
      "True\n",
      "False\n"
     ]
    }
   ],
   "source": [
    "# 16-Create a code to check if a given list is sorted (either in ascending or descending order) or\n",
    "def is_sorted(lst):\n",
    "    \"\"\"Checks if a list is sorted in ascending or descending order.\"\"\"\n",
    "    ascending = all(lst[i] <= lst[i + 1] for i in range(len(lst) - 1))\n",
    "    descending = all(lst[i] >= lst[i + 1] for i in range(len(lst) - 1))\n",
    "    return ascending or descending\n",
    "\n",
    "# Example usage\n",
    "print(is_sorted([1, 2, 3, 4, 5]))  # True (Ascending)\n",
    "print(is_sorted([5, 4, 3, 2, 1]))  # True (Descending)\n",
    "print(is_sorted([3, 1, 4, 2]))  # False (Unsorted)\n"
   ]
  },
  {
   "cell_type": "code",
   "execution_count": 154,
   "id": "5e72e958-0cc3-4fc7-b9eb-cc5628db2dba",
   "metadata": {},
   "outputs": [
    {
     "name": "stdout",
     "output_type": "stream",
     "text": [
      "[1, 2, 3, 4, 5, 5, 6, 6, 7, 8]\n"
     ]
    }
   ],
   "source": [
    "# 17-Write a code to merge two sorted lists into a single sorted list_\n",
    "\n",
    "list1=[1,2,3,4,5,6]\n",
    "list2=[5,6,7,8]\n",
    "c = sorted(list1+list2)\n",
    "print(c)"
   ]
  },
  {
   "cell_type": "code",
   "execution_count": 156,
   "id": "f48708e0-7fec-4517-a58c-c31376bbe108",
   "metadata": {},
   "outputs": [
    {
     "name": "stdout",
     "output_type": "stream",
     "text": [
      "{1, 2, 4, 5, 6, 7}\n"
     ]
    }
   ],
   "source": [
    "# 18-Implement a code to find the intersection of two given lists\n",
    "a=[1,2,4,6,7,5,7,5]\n",
    "b=[3,2,7,8,0,9,7]\n",
    "c=set(a)\n",
    "d=set(b)\n",
    "e=c&d\n",
    "print(c)"
   ]
  },
  {
   "cell_type": "code",
   "execution_count": 162,
   "id": "d8a4a4b0-0c95-4d62-bf67-bc333692ab51",
   "metadata": {},
   "outputs": [
    {
     "name": "stdout",
     "output_type": "stream",
     "text": [
      "{1, 2, 3, 4, 5, 6, 7, 8, 9}\n"
     ]
    }
   ],
   "source": [
    "# 19-Create a code to find the union of two lists without duplicates_\n",
    "a=[2,4,6,4,3,6,7,8,5,4,3,6]\n",
    "b=[3,1,2,5,7,8,9,7,4,3]\n",
    "c=set(a)\n",
    "d=set(b)\n",
    "e=c|d\n",
    "print(e)"
   ]
  },
  {
   "cell_type": "code",
   "execution_count": 164,
   "id": "2250e3d5-12db-4f44-9ccb-ff3179e17117",
   "metadata": {},
   "outputs": [
    {
     "name": "stdout",
     "output_type": "stream",
     "text": [
      "[5, 1, 3, 2, 4]\n"
     ]
    }
   ],
   "source": [
    "# 20-Write a code to shuffle a given list randomly without using any built-in shuffle functions\n",
    "import random\n",
    "\n",
    "def fisher_yates_shuffle(lst):\n",
    "    \"\"\"\n",
    "    Shuffle the input list in place using the Fisher-Yates algorithm.\n",
    "    \"\"\"\n",
    "    for i in range(len(lst) - 1, 0, -1):\n",
    "        j = random.randint(0, i)\n",
    "        lst[i], lst[j] = lst[j], lst[i]\n",
    "\n",
    "# Example usage:\n",
    "my_list = [1, 2, 3, 4, 5]\n",
    "fisher_yates_shuffle(my_list)\n",
    "print(my_list)\n"
   ]
  },
  {
   "cell_type": "code",
   "execution_count": 183,
   "id": "fa146c25-d532-4318-b9e1-db818d3e5f11",
   "metadata": {},
   "outputs": [
    {
     "name": "stdout",
     "output_type": "stream",
     "text": [
      "(3, 5, 6, 7)\n"
     ]
    }
   ],
   "source": [
    "# 21-Write a code that takes two tuples as input and returns a new tuple containing elements that are\n",
    "#common to both input tuples\u0012\n",
    "def common_element(tuple1,tuple2):\n",
    "    set1=set(tuple1)\n",
    "    set2=set(tuple2)\n",
    "    common_set=set1&set2\n",
    "    return tuple(common_set)\n",
    "\n",
    "#example\n",
    "tuple1=(1,2,3,5,6,7,5)\n",
    "tuple2=(3,5,7,8,6,4)\n",
    "result=common_element(tuple1,tuple2)\n",
    "print(result)\n"
   ]
  },
  {
   "cell_type": "markdown",
   "id": "47f4a41c-8cd6-4764-9616-e55ad5bbab67",
   "metadata": {},
   "source": []
  },
  {
   "cell_type": "code",
   "execution_count": 185,
   "id": "0c5e4b18-3de5-48a0-a479-878812e2dc7a",
   "metadata": {},
   "outputs": [
    {
     "name": "stdout",
     "output_type": "stream",
     "text": [
      "{7}\n"
     ]
    }
   ],
   "source": [
    "# 22-Create a code that prompts the user to enter two sets of integers separated by commas. Then, print the\n",
    "#intersection of these two sets\u0012\n",
    "a={1,2,4,6,7}\n",
    "b={5,7,8}\n",
    "print(a&b)"
   ]
  },
  {
   "cell_type": "code",
   "execution_count": 187,
   "id": "10378aad-6275-44b5-8f4f-f9a2fdc0ffd6",
   "metadata": {},
   "outputs": [
    {
     "name": "stdout",
     "output_type": "stream",
     "text": [
      "(1, 2, 5, 2, 5, 7, 8)\n"
     ]
    }
   ],
   "source": [
    "# 23-Write a code to concatenate two tuples. The function should take two tuples as input and return a new\n",
    "#tuple containing elements from both input tuples.\n",
    "def two_tuple(tuple1,tuple2):\n",
    "    return tuple1+tuple2\n",
    "#example\n",
    "tuple1=(1,2,5)\n",
    "tuple2=(2,5,7,8)\n",
    "result=two_tuple(tuple1,tuple2)\n",
    "print(result)"
   ]
  },
  {
   "cell_type": "code",
   "execution_count": 189,
   "id": "b42155a4-073d-46c2-af7e-01c18d9e679e",
   "metadata": {},
   "outputs": [
    {
     "name": "stdout",
     "output_type": "stream",
     "text": [
      "{'raju', 'monu', 'priya'}\n"
     ]
    }
   ],
   "source": [
    "# 24-Develop a code that prompts the user to input two sets of strings. Then, print the elements that are\n",
    "#present in the first set but not in the second set& \n",
    "a={\"kapil\",\"priya\",\"raju\",\"monu\",\"ravi\"}\n",
    "b={\"annu\",\"kapil\",\"ravi\",\"kirti\"}\n",
    "print(a-b)"
   ]
  },
  {
   "cell_type": "code",
   "execution_count": 194,
   "id": "d6667c57-8282-4c43-bce2-f0f5b5456c03",
   "metadata": {},
   "outputs": [
    {
     "name": "stdout",
     "output_type": "stream",
     "text": [
      "(30, 40, 50)\n"
     ]
    }
   ],
   "source": [
    "# 25-Create a code that takes a tuple and two integers as input. The function should return a new tuple\n",
    "#containing elements from the original tuple within the specified range of indices&\n",
    "def slice_tuple(input_tuple, start_index, end_index):\n",
    "      return input_tuple[start_index:end_index]\n",
    "original_tuple = (10, 20, 30, 40, 50, 60, 70)\n",
    "start = 2\n",
    "end = 5\n",
    "sliced_tuple = slice_tuple(original_tuple, start, end)\n",
    "print(sliced_tuple)"
   ]
  },
  {
   "cell_type": "code",
   "execution_count": 196,
   "id": "b1a67247-495b-403d-9155-38f076bf3422",
   "metadata": {},
   "outputs": [
    {
     "name": "stdout",
     "output_type": "stream",
     "text": [
      "{1, 2, 3, 5, 6, 7, 8}\n"
     ]
    }
   ],
   "source": [
    "# 26-Write a code that prompts the user to input two sets of characters. Then, print the union of these two sets\n",
    "a={1,2,5,6,8,6}\n",
    "b={3,5,7,8,5,7}\n",
    "print(a|b)"
   ]
  },
  {
   "cell_type": "code",
   "execution_count": 200,
   "id": "673a3e9a-be64-48a1-8ece-0b1cef19c8c1",
   "metadata": {},
   "outputs": [
    {
     "name": "stdout",
     "output_type": "stream",
     "text": [
      "(5, 7766)\n"
     ]
    }
   ],
   "source": [
    "# 27- Develop a code that takes a tuple of integers as input. The function should return the maximum and\n",
    "#minimum values from the tuple using tuple unpacking&\n",
    "def find_min_max(input_tuple):\n",
    "     min_value = min(input_tuple)\n",
    "     max_value = max(input_tuple)\n",
    "     return min_value, max_value\n",
    "number=(34,5,765,46,456,765,6656,5677,467,4677,4554,7766,3567)\n",
    "c=find_min_max(number)\n",
    "print(c)\n",
    "    "
   ]
  },
  {
   "cell_type": "code",
   "execution_count": 204,
   "id": "5169b96d-5ee8-4674-aca7-b519d67e9521",
   "metadata": {},
   "outputs": [
    {
     "name": "stdout",
     "output_type": "stream",
     "text": [
      "union {1, 2, 3, 4, 5, 6, 7, 8, 9}\n",
      "intersection {4, 5, 6}\n",
      "difference {1, 2, 3}\n"
     ]
    }
   ],
   "source": [
    "# 28-Create a code that defines two sets of integers. Then, print the union, intersection, and difference of these\n",
    "#two sets&\n",
    "a={1,2,3,4,5,6}\n",
    "b={4,5,6,7,8,9}\n",
    "union=a|b\n",
    "intersection=a&b\n",
    "difference=a-b\n",
    "print(\"union\",union)\n",
    "print(\"intersection\",intersection)\n",
    "print(\"difference\",difference)"
   ]
  },
  {
   "cell_type": "code",
   "execution_count": 206,
   "id": "d05c9a73-b638-420d-945d-8b290216f6d4",
   "metadata": {},
   "outputs": [
    {
     "name": "stdout",
     "output_type": "stream",
     "text": [
      "The element 2 appears 3 times in the tuple.\n"
     ]
    }
   ],
   "source": [
    "# 29-Write a code that takes a tuple and an element as input. The function should return the count of\n",
    "#occurrences of the given element in the tuple&\n",
    "def count_occurrences(input_tuple, element):\n",
    "     return input_tuple.count(element)\n",
    "my_tuple = (1, 2, 3, 2, 4, 2, 5)\n",
    "element_to_count = 2\n",
    "count = count_occurrences(my_tuple, element_to_count)\n",
    "print(f\"The element {element_to_count} appears {count} times in the tuple.\")\n"
   ]
  },
  {
   "cell_type": "code",
   "execution_count": 208,
   "id": "b42d44be-b3f8-42fd-a60d-b5546b364fee",
   "metadata": {},
   "outputs": [
    {
     "name": "stdout",
     "output_type": "stream",
     "text": [
      "{'banana', 'black', 'orange', 'papaya'}\n"
     ]
    }
   ],
   "source": [
    "# 30-Develop a code that prompts the user to input two sets of strings. Then, print the symmetric difference of\n",
    "#these two sets&\n",
    "a={\"banana\",\"orange\",\"red\",\"yellow\",\"apple\"}\n",
    "b={\"red\",\"black\",\"papaya\",\"yellow\",\"apple\"}\n",
    "result=a ^ b\n",
    "print(result)"
   ]
  },
  {
   "cell_type": "code",
   "execution_count": 210,
   "id": "d6b07885-978a-4730-92d9-e00bc82484ca",
   "metadata": {},
   "outputs": [
    {
     "name": "stdout",
     "output_type": "stream",
     "text": [
      "{'apple': 2, 'banana': 3, 'orange': 1}\n"
     ]
    }
   ],
   "source": [
    "# 31-Write a code that takes a list of words as input and returns a dictionary where the keys are unique words\n",
    "#and the values are the frequencies of those words in the input list&\n",
    "\n",
    "from collections import Counter\n",
    "\n",
    "def word_frequencies(word_list):\n",
    "    \n",
    "    return dict(Counter(word_list))\n",
    "\n",
    "# Example usage:\n",
    "words = ['apple', 'banana', 'apple', 'orange', 'banana', 'banana']\n",
    "frequency_dict = word_frequencies(words)\n",
    "print(frequency_dict)  # Output: {'apple': 2, 'banana': 3, 'orange': 1}\n"
   ]
  },
  {
   "cell_type": "code",
   "execution_count": 212,
   "id": "b42deec5-7c1d-4e3f-b0d5-d094f080ad41",
   "metadata": {},
   "outputs": [
    {
     "name": "stdout",
     "output_type": "stream",
     "text": [
      "{'a': 1, 'b': 5, 'c': 7, 'd': 5}\n"
     ]
    }
   ],
   "source": [
    "# 32-Write a code that takes two dictionaries as input and merges them into a single dictionary. If there are\n",
    "#common keys, the values should be added together&\n",
    "from collections import Counter\n",
    "\n",
    "def merge_and_sum_dicts(dict1, dict2):\n",
    "  \n",
    "    return dict(Counter(dict1) + Counter(dict2))\n",
    "\n",
    "# Example usage:\n",
    "dict1 = {'a': 1, 'b': 2, 'c': 3}\n",
    "dict2 = {'b': 3, 'c': 4, 'd': 5}\n",
    "merged_dict = merge_and_sum_dicts(dict1, dict2)\n",
    "print(merged_dict)  # Output: {'a': 1, 'b': 5, 'c': 7, 'd': 5}\n"
   ]
  },
  {
   "cell_type": "code",
   "execution_count": 214,
   "id": "bce5b72e-7797-49dc-bb5d-0352e943b026",
   "metadata": {},
   "outputs": [
    {
     "name": "stdout",
     "output_type": "stream",
     "text": [
      "42\n",
      "None\n"
     ]
    }
   ],
   "source": [
    "# 33-Write a code to access a value in a nested dictionary. The function should take the dictionary and a list of\n",
    "#keys as input, and return the corresponding value. If any of the keys do not exist in the dictionary, the\n",
    "#function should return None&\n",
    "def get_nested_value(d, keys):\n",
    "    \"\"\"\n",
    "    Access a value in a nested dictionary using a list of keys.\n",
    "    Returns the value if all keys exist; otherwise, returns None.\n",
    "    \n",
    "    Parameters:\n",
    "    - d: The dictionary to search.\n",
    "    - keys: A list of keys representing the path to the desired value.\n",
    "    \n",
    "    Returns:\n",
    "    - The value at the specified path, or None if any key is not found.\n",
    "    \"\"\"\n",
    "    for key in keys:\n",
    "        if isinstance(d, dict) and key in d:\n",
    "            d = d[key]\n",
    "        else:\n",
    "            return None\n",
    "    return d\n",
    "\n",
    "# Example usage:\n",
    "nested_dict = {\n",
    "    'a': {\n",
    "        'b': {\n",
    "            'c': 42\n",
    "        }\n",
    "    }\n",
    "}\n",
    "\n",
    "keys = ['a', 'b', 'c']\n",
    "value = get_nested_value(nested_dict, keys)\n",
    "print(value)  # Output: 42\n",
    "\n",
    "# If any key is missing:\n",
    "keys = ['a', 'b', 'd']\n",
    "value = get_nested_value(nested_dict, keys)\n",
    "print(value)  # Output: None\n"
   ]
  },
  {
   "cell_type": "code",
   "execution_count": 216,
   "id": "786a19bf-9587-4030-a1e3-bd3a23a32e24",
   "metadata": {},
   "outputs": [
    {
     "ename": "IndentationError",
     "evalue": "unexpected indent (1102475671.py, line 3)",
     "output_type": "error",
     "traceback": [
      "\u001b[1;36m  Cell \u001b[1;32mIn[216], line 3\u001b[1;36m\u001b[0m\n\u001b[1;33m    \"\"\"\u001b[0m\n\u001b[1;37m    ^\u001b[0m\n\u001b[1;31mIndentationError\u001b[0m\u001b[1;31m:\u001b[0m unexpected indent\n"
     ]
    }
   ],
   "source": [
    "# 34-& Write a code that takes a dictionary as input and returns a sorted version of it based on the values. You\n",
    "#def sort_dict_by_value(d, reverse=False):\n",
    "    \"\"\"\n",
    "    Sort a dictionary by its values.\n",
    "    \n",
    "    Parameters:\n",
    "    - d: The dictionary to sort.\n",
    "    - reverse: Boolean flag to indicate sorting order. \n",
    "      - False for ascending order (default).\n",
    "      - True for descending order.\n",
    "    \n",
    "    Returns:\n",
    "    - A dictionary sorted by its values.\n",
    "    \"\"\"\n",
    "    return dict(sorted(d.items(), key=lambda item: item[1], reverse=reverse))\n",
    "\n",
    "# Example usage:\n",
    "my_dict = {'apple': 10, 'banana': 5, 'cherry': 20}\n",
    "\n",
    "# Sort in ascending order\n",
    "sorted_dict_asc = sort_dict_by_value(my_dict)\n",
    "print(sorted_dict_asc)  # Output: {'banana': 5, 'apple': 10, 'cherry': 20}\n",
    "\n",
    "# Sort in descending order\n",
    "sorted_dict_desc = sort_dict_by_value(my_dict, reverse=True)\n",
    "print(sorted_dict_desc)  # Output: {'cherry': 20, 'apple': 10, 'banana': 5}\n",
    "can choose whether to sort in ascending or descending order&"
   ]
  },
  {
   "cell_type": "code",
   "execution_count": 218,
   "id": "e8b82e31-3ac1-4564-b26a-6b97f7bd16c8",
   "metadata": {},
   "outputs": [
    {
     "name": "stdout",
     "output_type": "stream",
     "text": [
      "{1: ['a', 'c'], 2: ['b'], 3: ['d']}\n"
     ]
    }
   ],
   "source": [
    "# 35-Write a code that inverts a dictionary, swapping keys and values. Ensure that the inverted dictionary\n",
    "#correctly handles cases where multiple keys have the same value by storing the keys as a list in the\n",
    "#inverted dictionary.\n",
    "from collections import defaultdict\n",
    "\n",
    "def invert_dict(d):\n",
    "    \"\"\"\n",
    "    Invert a dictionary, swapping keys and values.\n",
    "    If multiple keys have the same value, store the keys as a list.\n",
    "    \n",
    "    Parameters:\n",
    "    - d: The dictionary to invert.\n",
    "    \n",
    "    Returns:\n",
    "    - A new dictionary with keys and values swapped.\n",
    "    \"\"\"\n",
    "    inverted = defaultdict(list)\n",
    "    for key, value in d.items():\n",
    "        inverted[value].append(key)\n",
    "    return dict(inverted)\n",
    "\n",
    "# Example usage:\n",
    "original_dict = {'a': 1, 'b': 2, 'c': 1, 'd': 3}\n",
    "inverted_dict = invert_dict(original_dict)\n",
    "print(inverted_dict)\n"
   ]
  },
  {
   "cell_type": "code",
   "execution_count": null,
   "id": "a904fbf3-ae7c-4576-9b5c-1807fa398c0a",
   "metadata": {},
   "outputs": [],
   "source": []
  },
  {
   "cell_type": "code",
   "execution_count": null,
   "id": "dc7a43e0-a594-4d9c-a615-0fd677e0ccde",
   "metadata": {},
   "outputs": [],
   "source": []
  }
 ],
 "metadata": {
  "kernelspec": {
   "display_name": "Python 3 (ipykernel)",
   "language": "python",
   "name": "python3"
  },
  "language_info": {
   "codemirror_mode": {
    "name": "ipython",
    "version": 3
   },
   "file_extension": ".py",
   "mimetype": "text/x-python",
   "name": "python",
   "nbconvert_exporter": "python",
   "pygments_lexer": "ipython3",
   "version": "3.12.7"
  },
  "widgets": {
   "application/vnd.jupyter.widget-state+json": {
    "state": {},
    "version_major": 2,
    "version_minor": 0
   }
  }
 },
 "nbformat": 4,
 "nbformat_minor": 5
}
